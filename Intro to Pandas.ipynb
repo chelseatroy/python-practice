{
 "cells": [
  {
   "cell_type": "code",
   "execution_count": 2,
   "metadata": {},
   "outputs": [],
   "source": [
    "import pandas as pd"
   ]
  },
  {
   "cell_type": "code",
   "execution_count": 85,
   "metadata": {},
   "outputs": [],
   "source": [
    "puzzle = [\n",
    "    [1, 2, 3, 4],\n",
    "    [2, 1, 4, 3],\n",
    "    [3, 4, 1, 2],\n",
    "    [4, 3, 2, 1],\n",
    "]"
   ]
  },
  {
   "cell_type": "code",
   "execution_count": 86,
   "metadata": {},
   "outputs": [],
   "source": [
    "def valid_sudoku_puzzle(puzzle):\n",
    "    try: \n",
    "        is_a_list = str(type(puzzle)) == \"<class 'list'>\"\n",
    "        assert(is_a_list)\n",
    "    \n",
    "        number_of_rows = len(puzzle)\n",
    "        number_of_columns = len(puzzle[0])\n",
    "        assert(number_of_rows == number_of_columns)\n",
    "    \n",
    "        for row in puzzle:\n",
    "            assert(len(set(row)) == len(row))\n",
    "            assert(max(row) == len(row))\n",
    "            assert(min(row) == 1)\n",
    "        \n",
    "        for index, item in enumerate(puzzle):\n",
    "            column = []\n",
    "            for row in puzzle:\n",
    "                column.append(row[index])\n",
    "            assert(len(set(column)) == len(column))\n",
    "        \n",
    "        print(\"This solution is valid!\")\n",
    "    except:\n",
    "        print(\"Sorry! Not a valid sudoku puzzle.\")"
   ]
  },
  {
   "cell_type": "code",
   "execution_count": 87,
   "metadata": {},
   "outputs": [
    {
     "name": "stdout",
     "output_type": "stream",
     "text": [
      "This solution is valid!\n"
     ]
    }
   ],
   "source": [
    "valid_sudoku_puzzle(puzzle)"
   ]
  },
  {
   "cell_type": "code",
   "execution_count": 68,
   "metadata": {},
   "outputs": [],
   "source": [
    "bigger_puzzle = [\n",
    "    [1, 2, 3, 4, 5, 6, 7],\n",
    "    [1, 2, 3, 4, 5, 6, 7],\n",
    "    [1, 2, 3, 4, 5, 6, 7],\n",
    "    [1, 2, 3, 4, 5, 6, 7],\n",
    "    [1, 2, 3, 4, 5, 6, 7],\n",
    "    [1, 2, 3, 4, 5, 6, 7],\n",
    "    [1, 2, 3, 4, 5, 6, 7],\n",
    "]\n",
    "\n",
    "ninex9_puzzle = [\n",
    "    [3, 1, 6, 5, 7, 8, 4, 9, 2],\n",
    "    [5, 2, 9, 1, 3, 4, 7, 6, 8], \n",
    "    [4, 8, 7, 6, 2, 9, 5, 3, 1], \n",
    "    [2, 6, 3, 4, 1 5 9 8 7 \n",
    "           9 7 4 8 6 3 1 2 5 \n",
    "           8 5 1 7 9 2 6 4 3 \n",
    "           1 3 8 9 4 7 2 5 6 \n",
    "           6 9 2 3 5 1 8 7 4 \n",
    "           7 4 5 2 8 6 3 1 9 \n",
    "]"
   ]
  },
  {
   "cell_type": "code",
   "execution_count": 69,
   "metadata": {},
   "outputs": [
    {
     "name": "stdout",
     "output_type": "stream",
     "text": [
      "Sorry! Not a valid sudoku puzzle.\n"
     ]
    }
   ],
   "source": [
    "valid_sudoku_puzzle(bigger_puzzle)"
   ]
  },
  {
   "cell_type": "code",
   "execution_count": null,
   "metadata": {},
   "outputs": [],
   "source": []
  }
 ],
 "metadata": {
  "kernelspec": {
   "display_name": "Python 3",
   "language": "python",
   "name": "python3"
  },
  "language_info": {
   "codemirror_mode": {
    "name": "ipython",
    "version": 3
   },
   "file_extension": ".py",
   "mimetype": "text/x-python",
   "name": "python",
   "nbconvert_exporter": "python",
   "pygments_lexer": "ipython3",
   "version": "3.6.8"
  }
 },
 "nbformat": 4,
 "nbformat_minor": 4
}
